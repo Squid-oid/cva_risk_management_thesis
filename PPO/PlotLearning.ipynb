{
 "cells": [
  {
   "cell_type": "code",
   "execution_count": 2,
   "id": "12735822",
   "metadata": {},
   "outputs": [
    {
     "name": "stdout",
     "output_type": "stream",
     "text": [
      "4000\n"
     ]
    }
   ],
   "source": [
    "import csv\n",
    "returns = []\n",
    "lens = []\n",
    "times = []\n",
    "with open('TrainLog.monitor.csv', mode='r') as csvfile:\n",
    "    next(csvfile)\n",
    "    reader = csv.DictReader(csvfile)\n",
    "    for row in reader:\n",
    "        returns.append(float(row['r']))\n",
    "        lens.append(float(row['l']))\n",
    "        times.append(float(row['t']))\n",
    "\n",
    "print(len(returns))"
   ]
  }
 ],
 "metadata": {
  "kernelspec": {
   "display_name": "d2d",
   "language": "python",
   "name": "python3"
  },
  "language_info": {
   "codemirror_mode": {
    "name": "ipython",
    "version": 3
   },
   "file_extension": ".py",
   "mimetype": "text/x-python",
   "name": "python",
   "nbconvert_exporter": "python",
   "pygments_lexer": "ipython3",
   "version": "3.11.11"
  }
 },
 "nbformat": 4,
 "nbformat_minor": 5
}
