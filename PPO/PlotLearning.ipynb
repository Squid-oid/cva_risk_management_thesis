{
 "cells": [
  {
   "cell_type": "code",
   "execution_count": null,
   "id": "12735822",
   "metadata": {},
   "outputs": [
    {
     "ename": "FileNotFoundError",
     "evalue": "[Errno 2] No such file or directory: 'eveal_logs-TrainBLast.monitor copy 2.csv'",
     "output_type": "error",
     "traceback": [
      "\u001b[1;31m---------------------------------------------------------------------------\u001b[0m",
      "\u001b[1;31mFileNotFoundError\u001b[0m                         Traceback (most recent call last)",
      "Cell \u001b[1;32mIn[4], line 17\u001b[0m\n\u001b[0;32m     15\u001b[0m trainR \u001b[38;5;241m=\u001b[39m []\n\u001b[0;32m     16\u001b[0m trainT \u001b[38;5;241m=\u001b[39m []\n\u001b[1;32m---> 17\u001b[0m \u001b[38;5;28;01mwith\u001b[39;00m \u001b[38;5;28mopen\u001b[39m(\u001b[38;5;124m'\u001b[39m\u001b[38;5;124meveal_logs-TrainBLast.monitor copy 2.csv\u001b[39m\u001b[38;5;124m'\u001b[39m) \u001b[38;5;28;01mas\u001b[39;00m fp:\n\u001b[0;32m     18\u001b[0m     \u001b[38;5;28mnext\u001b[39m(fp)\n\u001b[0;32m     19\u001b[0m     readbuffer \u001b[38;5;241m=\u001b[39m csv\u001b[38;5;241m.\u001b[39mDictReader(fp)\n",
      "File \u001b[1;32mc:\\Users\\osc16\\miniconda3\\envs\\d2d\\Lib\\site-packages\\IPython\\core\\interactiveshell.py:324\u001b[0m, in \u001b[0;36m_modified_open\u001b[1;34m(file, *args, **kwargs)\u001b[0m\n\u001b[0;32m    317\u001b[0m \u001b[38;5;28;01mif\u001b[39;00m file \u001b[38;5;129;01min\u001b[39;00m {\u001b[38;5;241m0\u001b[39m, \u001b[38;5;241m1\u001b[39m, \u001b[38;5;241m2\u001b[39m}:\n\u001b[0;32m    318\u001b[0m     \u001b[38;5;28;01mraise\u001b[39;00m \u001b[38;5;167;01mValueError\u001b[39;00m(\n\u001b[0;32m    319\u001b[0m         \u001b[38;5;124mf\u001b[39m\u001b[38;5;124m\"\u001b[39m\u001b[38;5;124mIPython won\u001b[39m\u001b[38;5;124m'\u001b[39m\u001b[38;5;124mt let you open fd=\u001b[39m\u001b[38;5;132;01m{\u001b[39;00mfile\u001b[38;5;132;01m}\u001b[39;00m\u001b[38;5;124m by default \u001b[39m\u001b[38;5;124m\"\u001b[39m\n\u001b[0;32m    320\u001b[0m         \u001b[38;5;124m\"\u001b[39m\u001b[38;5;124mas it is likely to crash IPython. If you know what you are doing, \u001b[39m\u001b[38;5;124m\"\u001b[39m\n\u001b[0;32m    321\u001b[0m         \u001b[38;5;124m\"\u001b[39m\u001b[38;5;124myou can use builtins\u001b[39m\u001b[38;5;124m'\u001b[39m\u001b[38;5;124m open.\u001b[39m\u001b[38;5;124m\"\u001b[39m\n\u001b[0;32m    322\u001b[0m     )\n\u001b[1;32m--> 324\u001b[0m \u001b[38;5;28;01mreturn\u001b[39;00m io_open(file, \u001b[38;5;241m*\u001b[39margs, \u001b[38;5;241m*\u001b[39m\u001b[38;5;241m*\u001b[39mkwargs)\n",
      "\u001b[1;31mFileNotFoundError\u001b[0m: [Errno 2] No such file or directory: 'eveal_logs-TrainBLast.monitor copy 2.csv'"
     ]
    }
   ],
   "source": [
    "import numpy as np\n",
    "import pandas as pd\n",
    "from matplotlib import pyplot as plt\n",
    "import csv\n",
    "\n",
    "data = np.load('./logs/eval_logs/evB/evaluations.npz')\n",
    "timesteps = data['timesteps'].flatten()\n",
    "mean_rewards = data['results'].mean(axis = 1)\n",
    "std_rewards = (data['results']).std(axis = 1)\n",
    "\n",
    "timesteps_s = pd.Series(timesteps)\n",
    "mean_s = pd.Series(mean_rewards)\n",
    "std_s = pd.Series(std_rewards)\n",
    "\n",
    "trainR = []\n",
    "trainT = []\n",
    "with open('eveal_logs-TrainBLast.monito2.csv') as fp:\n",
    "    next(fp)\n",
    "    readbuffer = csv.DictReader(fp)\n",
    "    for line in readbuffer:\n",
    "        trainR.append(line['r'])\n",
    "        trainT.append(line['l'])\n",
    "\n",
    "mean_smoothed = mean_s.rolling(window = 5, min_periods=1).mean()\n",
    "std_smoothed = std_s.rolling(window=5, min_periods=1).mean()\n",
    "\n",
    "plt.figure(figsize=(10,6))\n",
    "plt.plot(timesteps_s, mean_smoothed, label = 'Mean Eval Reward', linewidth = 2)\n",
    "plt.plot(np.cumsum(trainT), trainR)\n",
    "plt.fill_between(timesteps_s, mean_smoothed - std_smoothed, mean_smoothed + std_smoothed, alpha = 0.3, label = '+/- 1 Std. Dev', color = 'tab:blue')\n",
    "plt.xlabel('Timesteps', fontsize = 12)\n",
    "plt.ylabel('Evaluation Reward', fontsize = 12)\n",
    "plt.title('PPO convergence over time')\n",
    "plt.grid(True, linestyle = '--', alpha = 0.6)\n",
    "plt.legend()\n",
    "plt.tight_layout()\n",
    "plt.show()"
   ]
  }
 ],
 "metadata": {
  "kernelspec": {
   "display_name": "d2d",
   "language": "python",
   "name": "python3"
  },
  "language_info": {
   "codemirror_mode": {
    "name": "ipython",
    "version": 3
   },
   "file_extension": ".py",
   "mimetype": "text/x-python",
   "name": "python",
   "nbconvert_exporter": "python",
   "pygments_lexer": "ipython3",
   "version": "3.11.11"
  }
 },
 "nbformat": 4,
 "nbformat_minor": 5
}
