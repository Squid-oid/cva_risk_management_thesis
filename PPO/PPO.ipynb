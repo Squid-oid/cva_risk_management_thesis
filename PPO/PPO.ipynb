{
 "cells": [
  {
   "cell_type": "code",
   "execution_count": 1,
   "id": "d2ef1f6e",
   "metadata": {},
   "outputs": [
    {
     "name": "stderr",
     "output_type": "stream",
     "text": [
      "c:\\Users\\osc16\\miniconda3\\envs\\d2d\\Lib\\site-packages\\torch\\utils\\_pytree.py:185: FutureWarning: optree is installed but the version is too old to support PyTorch Dynamo in C++ pytree. C++ pytree support is disabled. Please consider upgrading optree using `python3 -m pip install --upgrade 'optree>=0.13.0'`.\n",
      "  warnings.warn(\n"
     ]
    }
   ],
   "source": [
    "# Imports\n",
    "import gymnasium as gym\n",
    "from typing import Callable\n",
    "\n",
    "from stable_baselines3 import PPO\n",
    "from stable_baselines3.common.env_util import make_vec_env\n",
    "from stable_baselines3.common.vec_env import DummyVecEnv\n",
    "from stable_baselines3.common.vec_env import SubprocVecEnv\n",
    "from stable_baselines3.common.callbacks import EvalCallback\n",
    "from stable_baselines3.common.vec_env import VecMonitor\n",
    "import torch as th\n",
    "\n",
    "import pickle\n",
    "\n",
    "# Import Our environment\n",
    "from dev_env import tradingEng\n"
   ]
  },
  {
   "cell_type": "code",
   "execution_count": 2,
   "id": "02bd6576",
   "metadata": {},
   "outputs": [],
   "source": [
    "# Load Paths\n",
    "with open(\"1.6kRunDemo.pkl\",\"rb\") as fp:\n",
    "    paths = pickle.load(fp)\n",
    "\n",
    "paths1 = paths[0:300]\n",
    "paths2 = paths[300:600]\n",
    "paths3 = paths[600:900]\n",
    "paths4 = paths[900:1200]\n",
    "del(paths)"
   ]
  },
  {
   "cell_type": "code",
   "execution_count": 3,
   "id": "121d8211",
   "metadata": {},
   "outputs": [],
   "source": [
    "## LR schedule\n",
    "def linear_schedule(initial_value: float) -> Callable[[float], float]:\n",
    "    \"\"\"\n",
    "    Linear learning rate schedule.\n",
    "\n",
    "    :param initial_value: Initial learning rate.\n",
    "    :return: schedule that computes\n",
    "      current learning rate depending on remaining progress\n",
    "    \"\"\"\n",
    "    def func(progress_remaining: float) -> float:\n",
    "        \"\"\"\n",
    "        Progress will decrease from 1 (beginning) to 0.\n",
    "\n",
    "        :param progress_remaining:\n",
    "        :return: current learning rate\n",
    "        \"\"\"\n",
    "        return progress_remaining * initial_value\n",
    "\n",
    "    return func"
   ]
  },
  {
   "cell_type": "code",
   "execution_count": null,
   "id": "0cdb011b",
   "metadata": {},
   "outputs": [
    {
     "ename": "ValueError",
     "evalue": "zero-dimensional arrays cannot be concatenated",
     "output_type": "error",
     "traceback": [
      "\u001b[1;31m---------------------------------------------------------------------------\u001b[0m",
      "\u001b[1;31mValueError\u001b[0m                                Traceback (most recent call last)",
      "Cell \u001b[1;32mIn[7], line 6\u001b[0m\n\u001b[0;32m      4\u001b[0m     \u001b[38;5;28;01mdel\u001b[39;00m(\u001b[38;5;28mset\u001b[39m)\n\u001b[0;32m      5\u001b[0m     \u001b[38;5;28;01mreturn\u001b[39;00m ret\n\u001b[1;32m----> 6\u001b[0m start_and_release(paths1, action \u001b[38;5;241m=\u001b[39m \u001b[38;5;124m'\u001b[39m\u001b[38;5;124msmall-More-Trust\u001b[39m\u001b[38;5;124m'\u001b[39m, obs \u001b[38;5;241m=\u001b[39m \u001b[38;5;124m'\u001b[39m\u001b[38;5;124mauto\u001b[39m\u001b[38;5;124m'\u001b[39m)\n\u001b[0;32m      8\u001b[0m \u001b[38;5;66;03m#envs = VecMonitor(SubprocVecEnv([\u001b[39;00m\n\u001b[0;32m      9\u001b[0m \u001b[38;5;66;03m#    lambda: start_and_release(paths1,action = 'small-More-Trust',obs = 'auto'),\u001b[39;00m\n\u001b[0;32m     10\u001b[0m \u001b[38;5;66;03m#    lambda: start_and_release(paths2,action = 'small-More-Trust',obs = 'auto'),\u001b[39;00m\n\u001b[0;32m     11\u001b[0m \u001b[38;5;66;03m#    lambda: start_and_release(paths3,action = 'small-More-Trust',obs = 'auto'),\u001b[39;00m\n\u001b[0;32m     12\u001b[0m \u001b[38;5;66;03m#    lambda: start_and_release(paths4,action = 'small-More-Trust',obs = 'auto'), #4\u001b[39;00m\n\u001b[0;32m     13\u001b[0m \u001b[38;5;66;03m#], start_method='spawn'))\u001b[39;00m\n\u001b[0;32m     15\u001b[0m \u001b[38;5;28mprint\u001b[39m(\u001b[38;5;124m\"\u001b[39m\u001b[38;5;124mGot here?\u001b[39m\u001b[38;5;124m\"\u001b[39m)\n",
      "Cell \u001b[1;32mIn[7], line 3\u001b[0m, in \u001b[0;36mstart_and_release\u001b[1;34m(set, action, obs)\u001b[0m\n\u001b[0;32m      2\u001b[0m \u001b[38;5;28;01mdef\u001b[39;00m \u001b[38;5;21mstart_and_release\u001b[39m(\u001b[38;5;28mset\u001b[39m, action \u001b[38;5;241m=\u001b[39m \u001b[38;5;124m'\u001b[39m\u001b[38;5;124msmall-More-Trust\u001b[39m\u001b[38;5;124m'\u001b[39m, obs \u001b[38;5;241m=\u001b[39m \u001b[38;5;124m'\u001b[39m\u001b[38;5;124mbig\u001b[39m\u001b[38;5;124m'\u001b[39m):\n\u001b[1;32m----> 3\u001b[0m     ret \u001b[38;5;241m=\u001b[39m tradingEng(\u001b[38;5;28mset\u001b[39m, action \u001b[38;5;241m=\u001b[39m action, obs \u001b[38;5;241m=\u001b[39m obs)\n\u001b[0;32m      4\u001b[0m     \u001b[38;5;28;01mdel\u001b[39;00m(\u001b[38;5;28mset\u001b[39m)\n\u001b[0;32m      5\u001b[0m     \u001b[38;5;28;01mreturn\u001b[39;00m ret\n",
      "File \u001b[1;32mc:\\Users\\osc16\\cva_risk_management_thesis\\PPO\\dev_env.py:108\u001b[0m, in \u001b[0;36mtradingEng.__init__\u001b[1;34m(self, paths, action, obs, tutor)\u001b[0m\n\u001b[0;32m     47\u001b[0m \u001b[38;5;28mself\u001b[39m\u001b[38;5;241m.\u001b[39mencoder \u001b[38;5;241m=\u001b[39m \u001b[38;5;28;01mNone\u001b[39;00m\n\u001b[0;32m     49\u001b[0m \u001b[38;5;28;01mmatch\u001b[39;00m obs:\n\u001b[0;32m     50\u001b[0m     \u001b[38;5;28;01mcase\u001b[39;00m \u001b[38;5;124m'\u001b[39m\u001b[38;5;124mbig\u001b[39m\u001b[38;5;124m'\u001b[39m:\n\u001b[0;32m     51\u001b[0m         \u001b[38;5;66;03m# let's let it look at the value of the 9 swaptions, the 9 (non constant) Qs, it's portfolio in each of those, and r (36 actions), \u001b[39;00m\n\u001b[1;32m   (...)\u001b[0m\n\u001b[0;32m     88\u001b[0m     \u001b[38;5;28;01mcase\u001b[39;00m\u001b[38;5;250m \u001b[39m\u001b[38;5;28;01m_\u001b[39;00m:\n\u001b[0;32m     89\u001b[0m         \u001b[38;5;28;01mreturn\u001b[39;00m \u001b[38;5;124m\"\u001b[39m\u001b[38;5;124mNo observation space matching input\u001b[39m\u001b[38;5;124m\"\u001b[39m\n\u001b[0;32m     91\u001b[0m \u001b[38;5;28;01mmatch\u001b[39;00m action:\n\u001b[0;32m     92\u001b[0m     \u001b[38;5;28;01mcase\u001b[39;00m \u001b[38;5;124m'\u001b[39m\u001b[38;5;124mbig\u001b[39m\u001b[38;5;124m'\u001b[39m:\n\u001b[0;32m     93\u001b[0m         \u001b[38;5;66;03m# The action space, let's let the action space be to take a new position -> 18 dim\u001b[39;00m\n\u001b[0;32m     94\u001b[0m         lowera \u001b[38;5;241m=\u001b[39m \u001b[38;5;241m-\u001b[39mscalebig\u001b[38;5;241m*\u001b[39mnp\u001b[38;5;241m.\u001b[39mones(\u001b[38;5;241m18\u001b[39m)\n\u001b[0;32m     95\u001b[0m         uppera \u001b[38;5;241m=\u001b[39m scalebig\u001b[38;5;241m*\u001b[39mnp\u001b[38;5;241m.\u001b[39mones(\u001b[38;5;241m18\u001b[39m)\n\u001b[0;32m     96\u001b[0m         \u001b[38;5;28mself\u001b[39m\u001b[38;5;241m.\u001b[39maction_space \u001b[38;5;241m=\u001b[39m gym\u001b[38;5;241m.\u001b[39mspaces\u001b[38;5;241m.\u001b[39mBox(low \u001b[38;5;241m=\u001b[39m lowera,high \u001b[38;5;241m=\u001b[39m uppera, dtype\u001b[38;5;241m=\u001b[39m\u001b[38;5;28mfloat\u001b[39m)\n\u001b[0;32m     97\u001b[0m     \u001b[38;5;28;01mcase\u001b[39;00m \u001b[38;5;124m'\u001b[39m\u001b[38;5;124msmall\u001b[39m\u001b[38;5;124m'\u001b[39m:\n\u001b[0;32m     98\u001b[0m         \u001b[38;5;66;03m# Just the swaption and q with last expiry\u001b[39;00m\n\u001b[0;32m     99\u001b[0m         lowera \u001b[38;5;241m=\u001b[39m np\u001b[38;5;241m.\u001b[39masarray([\u001b[38;5;241m-\u001b[39m\u001b[38;5;241m1\u001b[39m, \u001b[38;5;241m-\u001b[39m\u001b[38;5;241m1\u001b[39m])\n\u001b[0;32m    100\u001b[0m         uppera \u001b[38;5;241m=\u001b[39m np\u001b[38;5;241m.\u001b[39masarray([\u001b[38;5;241m1\u001b[39m, \u001b[38;5;241m1\u001b[39m])\n\u001b[0;32m    101\u001b[0m         \u001b[38;5;28mself\u001b[39m\u001b[38;5;241m.\u001b[39maction_space \u001b[38;5;241m=\u001b[39m gym\u001b[38;5;241m.\u001b[39mspaces\u001b[38;5;241m.\u001b[39mBox(low \u001b[38;5;241m=\u001b[39m lowera,high \u001b[38;5;241m=\u001b[39m uppera, dtype\u001b[38;5;241m=\u001b[39m\u001b[38;5;28mfloat\u001b[39m)\n\u001b[0;32m    102\u001b[0m     \u001b[38;5;28;01mcase\u001b[39;00m \u001b[38;5;124m'\u001b[39m\u001b[38;5;124msmall-More-Trust\u001b[39m\u001b[38;5;124m'\u001b[39m:\n\u001b[0;32m    103\u001b[0m         \u001b[38;5;66;03m# Just the swaption and q with last expiry\u001b[39;00m\n\u001b[0;32m    104\u001b[0m         lowera \u001b[38;5;241m=\u001b[39m np\u001b[38;5;241m.\u001b[39masarray([\u001b[38;5;241m-\u001b[39m\u001b[38;5;241m1\u001b[39m, \u001b[38;5;241m-\u001b[39m\u001b[38;5;241m1\u001b[39m])\n\u001b[0;32m    105\u001b[0m         uppera \u001b[38;5;241m=\u001b[39m np\u001b[38;5;241m.\u001b[39masarray([\u001b[38;5;241m1\u001b[39m, \u001b[38;5;241m1\u001b[39m])\n\u001b[0;32m    106\u001b[0m         \u001b[38;5;28mself\u001b[39m\u001b[38;5;241m.\u001b[39maction_space \u001b[38;5;241m=\u001b[39m gym\u001b[38;5;241m.\u001b[39mspaces\u001b[38;5;241m.\u001b[39mBox(low \u001b[38;5;241m=\u001b[39m lowera,high \u001b[38;5;241m=\u001b[39m uppera, dtype\u001b[38;5;241m=\u001b[39m\u001b[38;5;28mfloat\u001b[39m)\n\u001b[0;32m    107\u001b[0m     \u001b[38;5;28;01mcase\u001b[39;00m\u001b[38;5;250m \u001b[39m\u001b[38;5;28;01m_\u001b[39;00m:\n\u001b[1;32m--> 108\u001b[0m         \u001b[38;5;28;01mreturn\u001b[39;00m \u001b[38;5;124m\"\u001b[39m\u001b[38;5;124mNo matching action space\u001b[39m\u001b[38;5;124m\"\u001b[39m\n\u001b[0;32m    110\u001b[0m \u001b[38;5;28mself\u001b[39m\u001b[38;5;241m.\u001b[39mreset()\n",
      "File \u001b[1;32mc:\\Users\\osc16\\cva_risk_management_thesis\\PPO\\dev_env.py:198\u001b[0m, in \u001b[0;36mreset\u001b[1;34m(self, seed, options)\u001b[0m\n\u001b[0;32m    195\u001b[0m \u001b[38;5;28mself\u001b[39m\u001b[38;5;241m.\u001b[39mcurrpth \u001b[38;5;241m=\u001b[39m \u001b[38;5;28mself\u001b[39m\u001b[38;5;241m.\u001b[39mpaths[\u001b[38;5;28mself\u001b[39m\u001b[38;5;241m.\u001b[39mpthIDX]\n\u001b[0;32m    197\u001b[0m \u001b[38;5;66;03m# Initialize the portfolio to some ratio\u001b[39;00m\n\u001b[1;32m--> 198\u001b[0m init_ratio  \u001b[38;5;241m=\u001b[39m np\u001b[38;5;241m.\u001b[39mones(\u001b[38;5;241m18\u001b[39m)\u001b[38;5;241m*\u001b[39m(\u001b[38;5;241m1\u001b[39m\u001b[38;5;241m/\u001b[39m\u001b[38;5;241m18\u001b[39m)    \u001b[38;5;66;03m# the initial value distribution, should probably be a delta hedge\u001b[39;00m\n\u001b[0;32m    199\u001b[0m action \u001b[38;5;241m=\u001b[39m \u001b[38;5;28mself\u001b[39m\u001b[38;5;241m.\u001b[39mvec_to_dict(init_ratio)\n\u001b[0;32m    200\u001b[0m \u001b[38;5;28mself\u001b[39m\u001b[38;5;241m.\u001b[39m_agent_position \u001b[38;5;241m=\u001b[39m action\n",
      "File \u001b[1;32mc:\\Users\\osc16\\cva_risk_management_thesis\\PPO\\dev_env.py:144\u001b[0m, in \u001b[0;36m_get_obs\u001b[1;34m(self)\u001b[0m\n\u001b[0;32m    113\u001b[0m \u001b[38;5;28;01mdef\u001b[39;00m \u001b[38;5;21m_get_obs\u001b[39m(\u001b[38;5;28mself\u001b[39m):\n\u001b[0;32m    114\u001b[0m     \u001b[38;5;28;01mmatch\u001b[39;00m \u001b[38;5;28mself\u001b[39m\u001b[38;5;241m.\u001b[39mobs:\n\u001b[0;32m    115\u001b[0m         \u001b[38;5;28;01mcase\u001b[39;00m \u001b[38;5;124m'\u001b[39m\u001b[38;5;124mbig\u001b[39m\u001b[38;5;124m'\u001b[39m:\n\u001b[0;32m    116\u001b[0m             \u001b[38;5;28;01mreturn\u001b[39;00m np\u001b[38;5;241m.\u001b[39mconcat([\n\u001b[0;32m    117\u001b[0m                 \u001b[38;5;66;03m#self._agent_position[\"Swaption Position\"]+1)) #Hovers around 0.01 a lot, add small offset to avoid log of -, pos def, low variance, so add 1, take log and take tanh,\u001b[39;00m\n\u001b[0;32m    118\u001b[0m                 \u001b[38;5;66;03m#self._agent_position[\"Q Position\"], #Bounded 0,1 to bounded -1, 1\u001b[39;00m\n\u001b[0;32m    119\u001b[0m                 np\u001b[38;5;241m.\u001b[39mtanh(np\u001b[38;5;241m.\u001b[39mlog([a\u001b[38;5;241m+\u001b[39m\u001b[38;5;241m1\u001b[39m \u001b[38;5;28;01mfor\u001b[39;00m a \u001b[38;5;129;01min\u001b[39;00m \u001b[38;5;28mself\u001b[39m\u001b[38;5;241m.\u001b[39mswaptions_now()])), \u001b[38;5;66;03m# An NN output so let's not normalize\u001b[39;00m\n\u001b[0;32m    120\u001b[0m                 [(a \u001b[38;5;241m-\u001b[39m \u001b[38;5;241m0.5\u001b[39m)\u001b[38;5;241m*\u001b[39m\u001b[38;5;241m2\u001b[39m \u001b[38;5;28;01mfor\u001b[39;00m a \u001b[38;5;129;01min\u001b[39;00m \u001b[38;5;28mself\u001b[39m\u001b[38;5;241m.\u001b[39mQ_now()] \u001b[38;5;66;03m# Also an NN output\u001b[39;00m\n\u001b[0;32m    121\u001b[0m             ])\n\u001b[0;32m    122\u001b[0m         \u001b[38;5;28;01mcase\u001b[39;00m \u001b[38;5;124m'\u001b[39m\u001b[38;5;124mbig-nt\u001b[39m\u001b[38;5;124m'\u001b[39m:\n\u001b[0;32m    123\u001b[0m             \u001b[38;5;28;01mreturn\u001b[39;00m np\u001b[38;5;241m.\u001b[39mconcatenate([\n\u001b[0;32m    124\u001b[0m                 \u001b[38;5;28mself\u001b[39m\u001b[38;5;241m.\u001b[39m_agent_position[\u001b[38;5;124m\"\u001b[39m\u001b[38;5;124mSwaption Position\u001b[39m\u001b[38;5;124m\"\u001b[39m], \u001b[38;5;66;03m#Hovers around 0.01 a lot, add small offset to avoid log of -, pos def, low variance, so add 1, take log and take tanh,\u001b[39;00m\n\u001b[0;32m    125\u001b[0m                 \u001b[38;5;28mself\u001b[39m\u001b[38;5;241m.\u001b[39m_agent_position[\u001b[38;5;124m\"\u001b[39m\u001b[38;5;124mQ Position\u001b[39m\u001b[38;5;124m\"\u001b[39m], \u001b[38;5;66;03m#Bounded 0,1 to bounded -1, 1\u001b[39;00m\n\u001b[0;32m    126\u001b[0m                 \u001b[38;5;28mself\u001b[39m\u001b[38;5;241m.\u001b[39mswaptions_now(), \u001b[38;5;66;03m# An NN output so let's not normalize\u001b[39;00m\n\u001b[0;32m    127\u001b[0m                 \u001b[38;5;28mself\u001b[39m\u001b[38;5;241m.\u001b[39mQ_now(), \u001b[38;5;66;03m# Also an NN output\u001b[39;00m\n\u001b[0;32m    128\u001b[0m             ])\n\u001b[0;32m    129\u001b[0m         \u001b[38;5;28;01mcase\u001b[39;00m \u001b[38;5;124m'\u001b[39m\u001b[38;5;124msmall\u001b[39m\u001b[38;5;124m'\u001b[39m:\n\u001b[0;32m    130\u001b[0m             \u001b[38;5;28;01mreturn\u001b[39;00m np\u001b[38;5;241m.\u001b[39mconcatenate([\n\u001b[0;32m    131\u001b[0m                 \u001b[38;5;28mself\u001b[39m\u001b[38;5;241m.\u001b[39m_agent_position[\u001b[38;5;124m\"\u001b[39m\u001b[38;5;124mSwaption Position\u001b[39m\u001b[38;5;124m\"\u001b[39m],\n\u001b[0;32m    132\u001b[0m                 \u001b[38;5;28mself\u001b[39m\u001b[38;5;241m.\u001b[39m_agent_position[\u001b[38;5;124m\"\u001b[39m\u001b[38;5;124mQ Position\u001b[39m\u001b[38;5;124m\"\u001b[39m],\n\u001b[0;32m    133\u001b[0m                 [\u001b[38;5;28mself\u001b[39m\u001b[38;5;241m.\u001b[39mcurrpth\u001b[38;5;241m.\u001b[39mlambdas[\u001b[38;5;28mself\u001b[39m\u001b[38;5;241m.\u001b[39mtIDX]],\n\u001b[0;32m    134\u001b[0m                 [\u001b[38;5;28mself\u001b[39m\u001b[38;5;241m.\u001b[39mcurrpth\u001b[38;5;241m.\u001b[39mr[\u001b[38;5;28mself\u001b[39m\u001b[38;5;241m.\u001b[39mtIDX]],\n\u001b[0;32m    135\u001b[0m                 [\u001b[38;5;28mself\u001b[39m\u001b[38;5;241m.\u001b[39mcurrpth\u001b[38;5;241m.\u001b[39mt_s[\u001b[38;5;28mself\u001b[39m\u001b[38;5;241m.\u001b[39mtIDX]]\n\u001b[0;32m    136\u001b[0m             ])\n\u001b[0;32m    137\u001b[0m         \u001b[38;5;28;01mcase\u001b[39;00m \u001b[38;5;124m'\u001b[39m\u001b[38;5;124mxs\u001b[39m\u001b[38;5;124m'\u001b[39m: \u001b[38;5;66;03m# Transformed Observations work best!, Need to test not transforming t or doing a different transform since time goes 0 to 10, maybe just divide by 5 - 1??\u001b[39;00m\n\u001b[0;32m    138\u001b[0m             \u001b[38;5;28;01mreturn\u001b[39;00m np\u001b[38;5;241m.\u001b[39masmatrix([\n\u001b[0;32m    139\u001b[0m                 np\u001b[38;5;241m.\u001b[39mtanh(np\u001b[38;5;241m.\u001b[39mlog((\u001b[38;5;28mself\u001b[39m\u001b[38;5;241m.\u001b[39mcurrpth\u001b[38;5;241m.\u001b[39mlambdas[\u001b[38;5;28mself\u001b[39m\u001b[38;5;241m.\u001b[39mtIDX] \u001b[38;5;241m-\u001b[39m \u001b[38;5;241m0.001\u001b[39m)\u001b[38;5;241m+\u001b[39m\u001b[38;5;241m1\u001b[39m)) \u001b[38;5;28;01mif\u001b[39;00m \u001b[38;5;28mself\u001b[39m\u001b[38;5;241m.\u001b[39mcurrpth\u001b[38;5;241m.\u001b[39mlambdas[\u001b[38;5;28mself\u001b[39m\u001b[38;5;241m.\u001b[39mtIDX] \u001b[38;5;241m!=\u001b[39m \u001b[38;5;241m-\u001b[39m\u001b[38;5;241m0.999\u001b[39m \u001b[38;5;28;01melse\u001b[39;00m \u001b[38;5;241m-\u001b[39m\u001b[38;5;241m1\u001b[39m,\n\u001b[0;32m    140\u001b[0m                 np\u001b[38;5;241m.\u001b[39mtanh(\u001b[38;5;28mself\u001b[39m\u001b[38;5;241m.\u001b[39mcurrpth\u001b[38;5;241m.\u001b[39mr[\u001b[38;5;28mself\u001b[39m\u001b[38;5;241m.\u001b[39mtIDX]),\n\u001b[0;32m    141\u001b[0m                 \u001b[38;5;66;03m# Different TIme Norm\u001b[39;00m\n\u001b[0;32m    142\u001b[0m                 \u001b[38;5;28mself\u001b[39m\u001b[38;5;241m.\u001b[39mcurrpth\u001b[38;5;241m.\u001b[39mt_s[\u001b[38;5;28mself\u001b[39m\u001b[38;5;241m.\u001b[39mtIDX]\u001b[38;5;241m/\u001b[39m\u001b[38;5;241m5\u001b[39m \u001b[38;5;241m-\u001b[39m \u001b[38;5;241m1\u001b[39m,\n\u001b[0;32m    143\u001b[0m                 \u001b[38;5;66;03m#np.tanh(np.log(self.currpth.t_s[self.tIDX])) if self.currpth.t_s[self.tIDX] != 0 else -1\u001b[39;00m\n\u001b[1;32m--> 144\u001b[0m             ])\n\u001b[0;32m    145\u001b[0m         \u001b[38;5;28;01mcase\u001b[39;00m \u001b[38;5;124m'\u001b[39m\u001b[38;5;124mauto\u001b[39m\u001b[38;5;124m'\u001b[39m: \u001b[38;5;66;03m# Transformed Observations work best!, Need to test not transforming t or doing a different transform since time goes 0 to 10, maybe just divide by 5 - 1??\u001b[39;00m\n\u001b[0;32m    146\u001b[0m             \u001b[38;5;28mprint\u001b[39m(\u001b[38;5;124m\"\u001b[39m\u001b[38;5;124m Got into correct observation bucket\u001b[39m\u001b[38;5;124m\"\u001b[39m)\n\u001b[0;32m    147\u001b[0m             sample \u001b[38;5;241m=\u001b[39m np\u001b[38;5;241m.\u001b[39mconcat([\u001b[38;5;28mself\u001b[39m\u001b[38;5;241m.\u001b[39mswaptions_now, \u001b[38;5;28mself\u001b[39m\u001b[38;5;241m.\u001b[39mQ_now])\n\u001b[0;32m    148\u001b[0m             sample \u001b[38;5;241m=\u001b[39m \u001b[38;5;28mself\u001b[39m\u001b[38;5;241m.\u001b[39mencoder\u001b[38;5;241m.\u001b[39mpreprocess(sample)\n\u001b[0;32m    149\u001b[0m             \u001b[38;5;28mprint\u001b[39m(\u001b[38;5;124m\"\u001b[39m\u001b[38;5;124mPreprocessed Sample\u001b[39m\u001b[38;5;124m\"\u001b[39m)\n\u001b[0;32m    150\u001b[0m             z \u001b[38;5;241m=\u001b[39m \u001b[38;5;28mself\u001b[39m\u001b[38;5;241m.\u001b[39mencoder\u001b[38;5;241m.\u001b[39mencoder(th\u001b[38;5;241m.\u001b[39mfrom_numpy(sample))\n\u001b[0;32m    151\u001b[0m             \u001b[38;5;28;01mreturn\u001b[39;00m z\u001b[38;5;241m.\u001b[39mdetach()\u001b[38;5;241m.\u001b[39mnumpy()\n\u001b[0;32m    152\u001b[0m         \u001b[38;5;28;01mcase\u001b[39;00m \u001b[38;5;124m'\u001b[39m\u001b[38;5;124mxs-nt\u001b[39m\u001b[38;5;124m'\u001b[39m:\n\u001b[0;32m    153\u001b[0m             \u001b[38;5;28;01mreturn\u001b[39;00m np\u001b[38;5;241m.\u001b[39masmatrix([\n\u001b[0;32m    154\u001b[0m                 \u001b[38;5;28mself\u001b[39m\u001b[38;5;241m.\u001b[39mcurrpth\u001b[38;5;241m.\u001b[39mlambdas[\u001b[38;5;28mself\u001b[39m\u001b[38;5;241m.\u001b[39mtIDX],\n\u001b[0;32m    155\u001b[0m                 \u001b[38;5;28mself\u001b[39m\u001b[38;5;241m.\u001b[39mcurrpth\u001b[38;5;241m.\u001b[39mr[\u001b[38;5;28mself\u001b[39m\u001b[38;5;241m.\u001b[39mtIDX],\n\u001b[0;32m    156\u001b[0m                 \u001b[38;5;28mself\u001b[39m\u001b[38;5;241m.\u001b[39mcurrpth\u001b[38;5;241m.\u001b[39mt_s[\u001b[38;5;28mself\u001b[39m\u001b[38;5;241m.\u001b[39mtIDX]\n\u001b[0;32m    157\u001b[0m             ])\n",
      "\u001b[1;31mValueError\u001b[0m: zero-dimensional arrays cannot be concatenated"
     ]
    }
   ],
   "source": [
    "# Def Env\n",
    "def start_and_release(set, action = 'small-More-Trust', obs = 'big'):\n",
    "    ret = tradingEng(set, action = action, obs = obs)\n",
    "    #del(set)\n",
    "    return ret\n",
    "start_and_release(paths1, action = 'small-More-Trust', obs = 'auto')\n",
    "\n",
    "#envs = VecMonitor(SubprocVecEnv([\n",
    "#    lambda: start_and_release(paths1,action = 'small-More-Trust',obs = 'auto'),\n",
    "#    lambda: start_and_release(paths2,action = 'small-More-Trust',obs = 'auto'),\n",
    "#    lambda: start_and_release(paths3,action = 'small-More-Trust',obs = 'auto'),\n",
    "#    lambda: start_and_release(paths4,action = 'small-More-Trust',obs = 'auto'), #4\n",
    "#], start_method='spawn'))\n",
    "\n",
    "print(\"Got here?\")\n",
    "\n",
    "# Instantiate the agent\n",
    "policy_kwargs = dict(activation_fn=th.nn.LeakyReLU,\n",
    "                     net_arch=dict(pi=[512,512,256,128,64,64,64,64,36,18], vf=[512,512,256,128,64,64,64,64,36,18], optimizers_class = th.optim.Adam, log_std_init = False, ortho_init = False))\n",
    "model = PPO(\"MlpPolicy\", envs, batch_size = 1200, learning_rate=linear_schedule(3e-4), policy_kwargs=policy_kwargs, n_steps=1200*5, normalize_advantage=True, vf_coef = 0.9, gamma = 0.9,ent_coef=0.01, verbose = 1)\n",
    "\n",
    "#print(\"Number 2\")\n",
    "#model = PPO.load(\"PPOs\")\n",
    "#model.set_env(envs)\n",
    "#model.learning_rate = linear_schedule(5e-5)\n",
    "#model.batch_size = 3000\n",
    "#model.ent_coef = 0.005\n",
    "#model.learn(total_timesteps=int(2e6), log_interval=1)\n",
    "\n",
    "#print(\"Last Step\")\n",
    "model.learn(total_timesteps=int(5e6), log_interval=1)\n",
    "# Save the agent\n",
    "model.save(\"PPOs-Auto\")"
   ]
  },
  {
   "cell_type": "code",
   "execution_count": 14,
   "id": "1ff7a518",
   "metadata": {},
   "outputs": [
    {
     "name": "stdout",
     "output_type": "stream",
     "text": [
      "[[-0.99977158  0.05536838 -0.56841282]]\n",
      "0.005196713067477058\n",
      "0.030745992173113156\n"
     ]
    }
   ],
   "source": [
    "import numpy as np\n",
    "print(env._get_obs())\n",
    "path = paths[800]\n",
    "lambdax = path.lambdas[25]\n",
    "r = path.r[25]\n",
    "t = path.t_s[25]\n",
    "print(lambdax)\n",
    "print(r)\n",
    "\n",
    "#model.predict(observation=np.asmatrix([lambdax,r,t]),state=None, deterministic=True)"
   ]
  }
 ],
 "metadata": {
  "kernelspec": {
   "display_name": "d2d",
   "language": "python",
   "name": "python3"
  },
  "language_info": {
   "codemirror_mode": {
    "name": "ipython",
    "version": 3
   },
   "file_extension": ".py",
   "mimetype": "text/x-python",
   "name": "python",
   "nbconvert_exporter": "python",
   "pygments_lexer": "ipython3",
   "version": "3.11.11"
  }
 },
 "nbformat": 4,
 "nbformat_minor": 5
}
