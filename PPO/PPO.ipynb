{
 "cells": [
  {
   "cell_type": "code",
   "execution_count": 1,
   "id": "d2ef1f6e",
   "metadata": {},
   "outputs": [
    {
     "name": "stderr",
     "output_type": "stream",
     "text": [
      "c:\\Users\\osc16\\miniconda3\\envs\\d2d\\Lib\\site-packages\\torch\\utils\\_pytree.py:185: FutureWarning: optree is installed but the version is too old to support PyTorch Dynamo in C++ pytree. C++ pytree support is disabled. Please consider upgrading optree using `python3 -m pip install --upgrade 'optree>=0.13.0'`.\n",
      "  warnings.warn(\n"
     ]
    }
   ],
   "source": [
    "# Imports\n",
    "import gymnasium as gym\n",
    "from typing import Callable\n",
    "\n",
    "from stable_baselines3 import PPO\n",
    "from stable_baselines3.common.env_util import make_vec_env\n",
    "from stable_baselines3.common.vec_env import DummyVecEnv\n",
    "from stable_baselines3.common.vec_env import SubprocVecEnv\n",
    "from stable_baselines3.common.callbacks import EvalCallback\n",
    "from stable_baselines3.common.vec_env import VecMonitor\n",
    "import torch as th\n",
    "\n",
    "import pickle\n",
    "import gc\n",
    "\n",
    "# Import Our environment\n",
    "from dev_env import tradingEng\n"
   ]
  },
  {
   "cell_type": "code",
   "execution_count": 2,
   "id": "02bd6576",
   "metadata": {},
   "outputs": [],
   "source": [
    "# Load Paths\n",
    "with open(\"ZeroCorrFrs1Half\",\"rb\") as fp:\n",
    "    paths1 = pickle.load(fp)\n",
    "with open(\"ZeroCorrFrs2Half\",\"rb\") as fp:\n",
    "    paths2 = pickle.load(fp)\n",
    "with open(\"ZeroCorrSnd1Half\",\"rb\") as fp:\n",
    "    paths3 = pickle.load(fp)\n",
    "with open(\"ZeroCorrSnd2Half\",\"rb\") as fp:\n",
    "    paths4 = pickle.load(fp)"
   ]
  },
  {
   "cell_type": "code",
   "execution_count": 3,
   "id": "121d8211",
   "metadata": {},
   "outputs": [],
   "source": [
    "## LR schedule\n",
    "def linear_schedule(initial_value: float) -> Callable[[float], float]:\n",
    "    \"\"\"\n",
    "    Linear learning rate schedule.\n",
    "\n",
    "    :param initial_value: Initial learning rate.\n",
    "    :return: schedule that computes\n",
    "      current learning rate depending on remaining progress\n",
    "    \"\"\"\n",
    "    def func(progress_remaining: float) -> float:\n",
    "        \"\"\"\n",
    "        Progress will decrease from 1 (beginning) to 0.\n",
    "\n",
    "        :param progress_remaining:\n",
    "        :return: current learning rate\n",
    "        \"\"\"\n",
    "        return progress_remaining * initial_value\n",
    "\n",
    "    return func\n",
    "\n",
    "import numpy as np\n",
    "  ## LR schedule\n",
    "def exp_schedule(initial_value: float, decayRate = 5) -> Callable[[float], float]:\n",
    "    \"\"\"\n",
    "    Exp learning rate schedule.\n",
    "\n",
    "    :param initial_value: Initial learning rate.\n",
    "    :return: schedule that computes\n",
    "      current learning rate depending on remaining progress\n",
    "    \"\"\"\n",
    "    def func(progress_remaining: float) -> float:\n",
    "        \"\"\"\n",
    "        Progress will decrease from 1 (beginning) to 0.\n",
    "\n",
    "        :param progress_remaining:\n",
    "        :return: current learning rate\n",
    "        \"\"\"\n",
    "        factor = 1 - progress_remaining\n",
    "        return (np.exp((1-factor)*decayRate) - 1) * initial_value / (np.exp(decayRate) - 1)\n",
    "\n",
    "    return func"
   ]
  },
  {
   "cell_type": "code",
   "execution_count": null,
   "id": "0cdb011b",
   "metadata": {},
   "outputs": [
    {
     "name": "stdout",
     "output_type": "stream",
     "text": [
      "Using cpu device\n",
      "---------------------------------\n",
      "| rollout/           |          |\n",
      "|    ep_len_mean     | 1.26e+03 |\n",
      "|    ep_rew_mean     | -0.602   |\n",
      "| time/              |          |\n",
      "|    fps             | 1974     |\n",
      "|    iterations      | 1        |\n",
      "|    time_elapsed    | 20       |\n",
      "|    total_timesteps | 40320    |\n",
      "---------------------------------\n",
      "-----------------------------------------\n",
      "| rollout/                |             |\n",
      "|    ep_len_mean          | 1.26e+03    |\n",
      "|    ep_rew_mean          | -0.6        |\n",
      "| time/                   |             |\n",
      "|    fps                  | 1532        |\n",
      "|    iterations           | 2           |\n",
      "|    time_elapsed         | 52          |\n",
      "|    total_timesteps      | 80640       |\n",
      "| train/                  |             |\n",
      "|    approx_kl            | 0.005219996 |\n",
      "|    clip_fraction        | 0.0408      |\n",
      "|    clip_range           | 0.2         |\n",
      "|    entropy_loss         | -58.1       |\n",
      "|    explained_variance   | -2.06       |\n",
      "|    learning_rate        | 0.000992    |\n",
      "|    loss                 | -0.00353    |\n",
      "|    n_updates            | 10          |\n",
      "|    policy_gradient_loss | -0.00346    |\n",
      "|    std                  | 0.998       |\n",
      "|    value_loss           | 4.93e-05    |\n",
      "-----------------------------------------\n"
     ]
    }
   ],
   "source": [
    "# Def Env\n",
    "def start_and_release(set, action = 'small-More-Trust', obs = 'big'):\n",
    "    ret = tradingEng(set, action = action, obs = obs, resetdate=5)\n",
    "    del(set)\n",
    "    gc.collect()\n",
    "    return ret\n",
    "\n",
    "#t = start_and_release(paths1,action='small-More-Trust', obs = 'auto')\n",
    "envs = VecMonitor(DummyVecEnv([\n",
    "    lambda: start_and_release(paths1,action = 'big-Magnus', obs = 'xs',),\n",
    "    lambda: start_and_release(paths2,action = 'big-Magnus', obs = 'xs',),\n",
    "    lambda: start_and_release(paths3,action = 'big-Magnus', obs = 'xs',),\n",
    "    lambda: start_and_release(paths4,action = 'big-Magnus', obs = 'xs'), #4\n",
    "]), filename='TrainLog')\n",
    "\n",
    "# Instantiate the agent\n",
    "policy_kwargs = dict(activation_fn=th.nn.LeakyReLU,\n",
    "                     net_arch=dict(pi=[512,512,256,128,64,64,64,64,36,18], vf=[512,512,256,128,64,64,64,64,36,18], optimizers_class = th.optim.Adam, ortho_init = True, use_sde = True, log_std_init = .35, use_expln = True, squash_output = True))\n",
    "model = PPO(\"MlpPolicy\", envs, batch_size = 2*5*252*2, learning_rate=linear_schedule(0.001), policy_kwargs=policy_kwargs, n_steps=2*5*252*4, normalize_advantage=True, gamma = 0.9, verbose = 1)\n",
    "\n",
    "model.learn(total_timesteps=int(5e6), log_interval=1)\n",
    "# Save the agent\n",
    "model.save(\"PPOs\")"
   ]
  },
  {
   "cell_type": "code",
   "execution_count": 14,
   "id": "1ff7a518",
   "metadata": {},
   "outputs": [
    {
     "name": "stdout",
     "output_type": "stream",
     "text": [
      "[[-0.99977158  0.05536838 -0.56841282]]\n",
      "0.005196713067477058\n",
      "0.030745992173113156\n"
     ]
    }
   ],
   "source": [
    "import numpy as np\n",
    "print(env._get_obs())\n",
    "path = paths[800]\n",
    "lambdax = path.lambdas[25]\n",
    "r = path.r[25]\n",
    "t = path.t_s[25]\n",
    "print(lambdax)\n",
    "print(r)\n",
    "\n",
    "#model.predict(observation=np.asmatrix([lambdax,r,t]),state=None, deterministic=True)"
   ]
  }
 ],
 "metadata": {
  "kernelspec": {
   "display_name": "d2d",
   "language": "python",
   "name": "python3"
  },
  "language_info": {
   "codemirror_mode": {
    "name": "ipython",
    "version": 3
   },
   "file_extension": ".py",
   "mimetype": "text/x-python",
   "name": "python",
   "nbconvert_exporter": "python",
   "pygments_lexer": "ipython3",
   "version": "3.11.11"
  }
 },
 "nbformat": 4,
 "nbformat_minor": 5
}
