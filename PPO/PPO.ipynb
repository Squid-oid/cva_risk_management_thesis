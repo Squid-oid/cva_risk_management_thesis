{
 "cells": [
  {
   "cell_type": "code",
   "execution_count": 1,
   "id": "d2ef1f6e",
   "metadata": {},
   "outputs": [
    {
     "name": "stderr",
     "output_type": "stream",
     "text": [
      "c:\\Users\\osc16\\miniconda3\\envs\\d2d\\Lib\\site-packages\\torch\\utils\\_pytree.py:185: FutureWarning: optree is installed but the version is too old to support PyTorch Dynamo in C++ pytree. C++ pytree support is disabled. Please consider upgrading optree using `python3 -m pip install --upgrade 'optree>=0.13.0'`.\n",
      "  warnings.warn(\n"
     ]
    }
   ],
   "source": [
    "# Imports\n",
    "import gymnasium as gym\n",
    "from typing import Callable\n",
    "\n",
    "from stable_baselines3 import PPO\n",
    "from stable_baselines3.common.env_util import make_vec_env\n",
    "import torch as th\n",
    "\n",
    "import pickle\n",
    "\n",
    "# Import Our environment\n",
    "from dev_env import tradingEng\n"
   ]
  },
  {
   "cell_type": "code",
   "execution_count": 2,
   "id": "02bd6576",
   "metadata": {},
   "outputs": [],
   "source": [
    "# Load Paths\n",
    "with open(\"1.6kRunDemo.pkl\",\"rb\") as fp:\n",
    "    paths = pickle.load(fp)"
   ]
  },
  {
   "cell_type": "code",
   "execution_count": 3,
   "id": "121d8211",
   "metadata": {},
   "outputs": [],
   "source": [
    "## LR schedule\n",
    "def linear_schedule(initial_value: float) -> Callable[[float], float]:\n",
    "    \"\"\"\n",
    "    Linear learning rate schedule.\n",
    "\n",
    "    :param initial_value: Initial learning rate.\n",
    "    :return: schedule that computes\n",
    "      current learning rate depending on remaining progress\n",
    "    \"\"\"\n",
    "    def func(progress_remaining: float) -> float:\n",
    "        \"\"\"\n",
    "        Progress will decrease from 1 (beginning) to 0.\n",
    "\n",
    "        :param progress_remaining:\n",
    "        :return: current learning rate\n",
    "        \"\"\"\n",
    "        return progress_remaining * initial_value\n",
    "\n",
    "    return func"
   ]
  },
  {
   "cell_type": "code",
   "execution_count": null,
   "id": "0cdb011b",
   "metadata": {},
   "outputs": [
    {
     "name": "stdout",
     "output_type": "stream",
     "text": [
      "Using cpu device\n",
      "Wrapping the env with a `Monitor` wrapper\n",
      "Wrapping the env in a DummyVecEnv.\n"
     ]
    }
   ],
   "source": [
    "# Def Env\n",
    "env = tradingEng(paths, action = 'big', obs = 'big-nt')\n",
    "\n",
    "# Instantiate the agent\n",
    "policy_kwargs = dict(activation_fn=th.nn.ReLU,\n",
    "                     net_arch=dict(pi=[512,512,512,512,256,128,64,64,64,64,64,36,18], vf=[512,512,512,512,256,128,64,64,64,64,64,36,18], optimizers_class = th.optim.Adam, log_std_init = False, ortho_init = False))\n",
    "model = PPO(\"MlpPolicy\", env, verbose=True, batch_size = 1200*5, learning_rate=linear_schedule(5e-4), policy_kwargs=policy_kwargs, n_steps=1200*10, normalize_advantage=True, vf_coef = 0.9, gamma = 0.9,ent_coef=0.01)\n",
    "\n",
    "model.learn(total_timesteps=2e7, log_interval=10)\n",
    "# Save the agent\n",
    "model.save(\"PPOBig\")"
   ]
  },
  {
   "cell_type": "code",
   "execution_count": 14,
   "id": "1ff7a518",
   "metadata": {},
   "outputs": [
    {
     "name": "stdout",
     "output_type": "stream",
     "text": [
      "[[-0.99977158  0.05536838 -0.56841282]]\n",
      "0.005196713067477058\n",
      "0.030745992173113156\n"
     ]
    }
   ],
   "source": [
    "import numpy as np\n",
    "print(env._get_obs())\n",
    "path = paths[800]\n",
    "lambdax = path.lambdas[25]\n",
    "r = path.r[25]\n",
    "t = path.t_s[25]\n",
    "print(lambdax)\n",
    "print(r)\n",
    "\n",
    "#model.predict(observation=np.asmatrix([lambdax,r,t]),state=None, deterministic=True)"
   ]
  }
 ],
 "metadata": {
  "kernelspec": {
   "display_name": "d2d",
   "language": "python",
   "name": "python3"
  },
  "language_info": {
   "codemirror_mode": {
    "name": "ipython",
    "version": 3
   },
   "file_extension": ".py",
   "mimetype": "text/x-python",
   "name": "python",
   "nbconvert_exporter": "python",
   "pygments_lexer": "ipython3",
   "version": "3.11.11"
  }
 },
 "nbformat": 4,
 "nbformat_minor": 5
}
