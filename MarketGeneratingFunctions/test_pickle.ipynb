{
 "cells": [
  {
   "cell_type": "code",
   "execution_count": 3,
   "metadata": {},
   "outputs": [],
   "source": [
    "# Math\n",
    "import numpy as np\n",
    "import scipy as sp\n",
    "import matplotlib.pyplot as plt\n",
    "from numpy.random import Generator, PCG64\n",
    "import random\n",
    "from scipy.stats import norm\n",
    "import scipy.optimize as optimize\n",
    "import time\n",
    "\n",
    "# Ez parallelization\n",
    "from joblib import Parallel, delayed\n",
    "\n",
    "# File Handling\n",
    "from sys import getsizeof\n",
    "import _pickle as pickle\n",
    "# Alternatively use JSON which will be human readable\n",
    "# import json\n",
    "\n",
    "# Custom imports\n",
    "from global_cache import Global_Cache\n",
    "import base_from_gen as bg\n",
    "import pricing_func as pf\n",
    "from path_datatype import Path\n",
    "\n"
   ]
  },
  {
   "cell_type": "code",
   "execution_count": 4,
   "metadata": {},
   "outputs": [],
   "source": [
    "with open(\"1.6kRunDemo.pkl\",\"rb\") as fp:\n",
    "    paths = pickle.load(fp)"
   ]
  },
  {
   "cell_type": "code",
   "execution_count": null,
   "metadata": {},
   "outputs": [
    {
     "name": "stdout",
     "output_type": "stream",
     "text": [
      "[np.float64(1.0), np.float64(1.0), np.float64(1.0), np.float64(1.0), np.float64(1.0), np.float64(1.0), np.float64(1.0), np.float64(1.0), np.float64(1.0)]\n"
     ]
    }
   ],
   "source": [
    "# Try a plot\n",
    "path = paths[1000]\n",
    "plt.plot(Q[1])\n"
   ]
  },
  {
   "cell_type": "code",
   "execution_count": null,
   "metadata": {},
   "outputs": [],
   "source": []
  }
 ],
 "metadata": {
  "kernelspec": {
   "display_name": "d2d",
   "language": "python",
   "name": "python3"
  },
  "language_info": {
   "codemirror_mode": {
    "name": "ipython",
    "version": 3
   },
   "file_extension": ".py",
   "mimetype": "text/x-python",
   "name": "python",
   "nbconvert_exporter": "python",
   "pygments_lexer": "ipython3",
   "version": "3.12.9"
  }
 },
 "nbformat": 4,
 "nbformat_minor": 2
}
