{
 "cells": [
  {
   "cell_type": "code",
   "execution_count": 4,
   "metadata": {},
   "outputs": [],
   "source": [
    "# Math\n",
    "import numpy as np\n",
    "import scipy as sp\n",
    "import matplotlib.pyplot as plt\n",
    "from numpy.random import Generator, PCG64\n",
    "import random\n",
    "from scipy.stats import norm\n",
    "import scipy.optimize as optimize\n",
    "import time\n",
    "\n",
    "# Ez parallelization\n",
    "from joblib import Parallel, delayed\n",
    "\n",
    "# File Handling\n",
    "from sys import getsizeof\n",
    "import _pickle as pickle\n",
    "# Alternatively use JSON which will be human readable\n",
    "# import json\n",
    "\n",
    "import sys\n",
    "import os\n",
    "sys.path.append(os.path.abspath(os.path.join(os.getcwd(), \"..\")))\n",
    "\n",
    "# Custom imports\n",
    "from MarketGeneratingFunctions.global_cache import Global_Cache\n",
    "import MarketGeneratingFunctions.base_from_gen as bg\n",
    "import MarketGeneratingFunctions.pricing_func as pf\n",
    "from path_datatype import Path"
   ]
  },
  {
   "attachments": {},
   "cell_type": "markdown",
   "metadata": {},
   "source": [
    "## If generate data"
   ]
  },
  {
   "cell_type": "code",
   "execution_count": 5,
   "metadata": {},
   "outputs": [
    {
     "name": "stderr",
     "output_type": "stream",
     "text": [
      "/Users/isabellebyman/Documents/Courses_LTH/Exjobb/cva_risk_management_thesis/MarketGeneratingFunctions/pricing_func.py:77: RuntimeWarning: divide by zero encountered in scalar divide\n",
      "  return (np.log(self.Khat2(tau,K)) - self.B_bar(tau)*self.mu_v(t,T,r0))/(self.B_bar(tau)*(self.v_r2(t,T))**(1/2))\n",
      "/Users/isabellebyman/Documents/Courses_LTH/Exjobb/cva_risk_management_thesis/MarketGeneratingFunctions/pricing_func.py:77: RuntimeWarning: divide by zero encountered in scalar divide\n",
      "  return (np.log(self.Khat2(tau,K)) - self.B_bar(tau)*self.mu_v(t,T,r0))/(self.B_bar(tau)*(self.v_r2(t,T))**(1/2))\n",
      "/Users/isabellebyman/Documents/Courses_LTH/Exjobb/cva_risk_management_thesis/MarketGeneratingFunctions/pricing_func.py:77: RuntimeWarning: divide by zero encountered in scalar divide\n",
      "  return (np.log(self.Khat2(tau,K)) - self.B_bar(tau)*self.mu_v(t,T,r0))/(self.B_bar(tau)*(self.v_r2(t,T))**(1/2))\n",
      "/Users/isabellebyman/Documents/Courses_LTH/Exjobb/cva_risk_management_thesis/MarketGeneratingFunctions/pricing_func.py:77: RuntimeWarning: divide by zero encountered in scalar divide\n",
      "  return (np.log(self.Khat2(tau,K)) - self.B_bar(tau)*self.mu_v(t,T,r0))/(self.B_bar(tau)*(self.v_r2(t,T))**(1/2))\n"
     ]
    },
    {
     "name": "stdout",
     "output_type": "stream",
     "text": [
      "Total Time: 6.062168121337891\n",
      "Average Time Per Path 0.30310840606689454: \n"
     ]
    }
   ],
   "source": [
    "# C magic?\n",
    "#from numba import jit\n",
    "\n",
    "\"\"\"\n",
    "The Goal of this File is to generate a bunch of sample paths for the value of our tracked market through 30 years\n",
    "\n",
    "I'm setting the preliminary goal of around 1600 paths per hour since this gives us a reasonably fast\n",
    "rate (We can get a testable set in about an hour, and a set that should be large enough to be useable over \n",
    "a day 24*1600 = 38400 paths)\n",
    "\n",
    "At the latest point I ran it for 1600 paths in 3926 seconds ie, 65 minutes. \n",
    "\n",
    "----------- What are we finding and saving -----------\n",
    "We need to at all times know the value of our hedging instruments, these will be (as I understand it)\n",
    "r_t,\n",
    "Q(T_i > tau)_t           for i in 1 to 30\n",
    "Alternatively \n",
    "Swaption(T_i,T_end)_t    for i in 1 to 30\n",
    "Q(T_i > tau)_t           for i in 1 to 30\n",
    "Alternatively \n",
    "Swap(T_i, T_end)_t\n",
    "Q(T_i > tau)_t           for i in 1 to 30\n",
    "\n",
    "We also need the value of the CVA at every timepoint \n",
    "CVA_t\n",
    "\n",
    "And we might as well include the default intensity since we know it, so it's only taking up whatever the write\n",
    "/ read time is for one parameter, and we might want to hedge in it idk.\n",
    "\n",
    "\n",
    "----------- How are we Saving it -----------\n",
    "While grasping the data a dataframe is a natural choice, alternatively as in the demos a numpy matrix,\n",
    "to save it, preliminarily CSV feels like a natural choice but I need to think about it. Pickle is also a choice\n",
    "\n",
    "\n",
    "----------- How can we get speedups -----------\n",
    "The first and most important speedup in my eyes is that we can pre-calculate certain elements that remain unchanged\n",
    "across runs. For instance rstar(t), A(t,T) and B(t,T) are all unchanged no matter when or where they are evaluated. \n",
    "Some of these are acsessed literally thousands of times per run, and over thousands of runs that means millions of \n",
    "evaulations, a dict has (loosely speaking) O(1) search which should be much faster than the function evaluation\n",
    "\n",
    "The Second speedup is making sure that run specific elements are re-used as efficiently as possible. If we let each \n",
    "run occupy it's own thread we can let them share these local elements, which again saves unnessecary recalculation,\n",
    "examples of where we can do this is for instance P(t,T,rt) which does depend on an observed interest rate, but will\n",
    "likely occur multiple times, or the ZCB values which are time step dependant but called by many Swaptions.\n",
    "\n",
    "Finally the last speedup is to use multithreading to wrap the above. With all of these in play it should be possible\n",
    "to efficiently generate our paths \n",
    "\"\"\"\n",
    "\n",
    "########################################################\n",
    "## Defining Global Params and info                    ##\n",
    "########################################################\n",
    "# Set parameters\n",
    "params = dict()\n",
    "\n",
    "params[\"t0\"] = t0 = 0\n",
    "params[\"T\"] = T = 10\n",
    "\n",
    "# Intensity params\n",
    "params[\"lambda0\"] = lambda0 = 0.01\n",
    "params[\"mu\"] = mu = 0.01\n",
    "params[\"kappa\"] = kappa = 1\n",
    "params[\"v\"] = v = 0.1\n",
    "\n",
    "params[\"j_alpha\"] = j_alpha = T/4 # We should expect to see about 4 jumps,\n",
    "params[\"gamma\"] = gamma = mu/5 # With expected size mu/5\n",
    "\n",
    "# Short rate params\n",
    "params[\"r0\"] = r0 = 0.045\n",
    "params[\"alpha\"] = alpha = 1\n",
    "params[\"theta\"] = theta = r0*alpha\n",
    "params[\"sigma\"] = sigma = np.sqrt(r0)/5\n",
    "\n",
    "# Covariance\n",
    "params[\"rho\"] = 0.8\n",
    "\n",
    "# Number of steps and Number of Paths total\n",
    "params[\"N\"] = N = (T-t0)*12\n",
    "N_paths = 20\n",
    "\n",
    "# Global base time grid, pre jump insertion\n",
    "t_s_base = np.linspace(t0,T,N)\n",
    "T_s = np.arange(0,11,1)\n",
    "\n",
    "#########################################\n",
    "## Define Globally shareable Caches    ##\n",
    "#########################################\n",
    "# Finding K at startup, maybe put this in the global cache file?\n",
    "gc = Global_Cache(t_s_base,T_s,params)\n",
    "K = gc.K\n",
    "\n",
    "#for pathN in range(0,N_paths):\n",
    "def process(pathN):\n",
    "    # Generate the market grid and basic r and lambda\n",
    "    [t_s,r,lambdas,r_ongrid,lambdas_ongrid] = bg.mkt_base_from_grid(t_s_base,params)\n",
    "    # Create a pricing object for this specific market\n",
    "    pricer = pf.PricingFunc(params, gc, t_s, r, r_ongrid,lambdas, lambdas_ongrid)\n",
    "    \n",
    "    Q_s = [[pricer.Q(t,T) for t in t_s] for T in T_s]   # Here there must be room for performance improvement? These lists could be pre-allocated or something since we know that it's going to be a list of a list of floats, same for below??\n",
    "    Swaptions = [[pricer.swaption_price(t,T_s_2,K) for t in t_s] for T_s_2 in [T_s[i:] for i in range(0,len(T_s)-1)]] # Maybe we could C compile this file? Should be a huge performance increase, but might be a headache since we need to track down and type hint everything\n",
    "    CVA = [pricer.CVA(t,T_s,K) for t in t_s]\n",
    "    Swaps = [[pricer.swap_price(t,T_s_2,K) for t in t_s] for T_s_2 in [T_s[i:] for i in range(0,len(T_s)-1)]]\n",
    "\n",
    "    return Path(t_s, lambdas, r, CVA, Q_s, Swaps, Swaptions)\n",
    "\n",
    "strt = time.time()\n",
    "paths = Parallel(n_jobs = 4)(delayed(process)(pathN) for pathN in range(0,N_paths)) \n",
    "end_time = time.time()\n",
    "\n",
    "print(\"Total Time: %s\" %(end_time - strt))\n",
    "print(\"Average Time Per Path %s: \" %((end_time - strt)/N_paths))\n",
    "\n",
    "with open(\"3kRunDemo.pkl\",\"wb\") as fp:\n",
    "    pickle.dump(paths,fp)\n"
   ]
  },
  {
   "cell_type": "code",
   "execution_count": 6,
   "metadata": {},
   "outputs": [],
   "source": [
    "# Define environment\n",
    "with open(\"3kRunDemo.pkl\",\"rb\") as fp:\n",
    "    paths = pickle.load(fp)"
   ]
  },
  {
   "attachments": {},
   "cell_type": "markdown",
   "metadata": {},
   "source": [
    "## If use data file"
   ]
  },
  {
   "cell_type": "code",
   "execution_count": 16,
   "metadata": {},
   "outputs": [],
   "source": [
    "# Define environment\n",
    "file_path = os.path.abspath(\"../MarketGeneratingFunctions/1.6kRunDemo.pkl\")\n",
    "with open(file_path,\"rb\") as fp:\n",
    "    paths = pickle.load(fp)"
   ]
  },
  {
   "cell_type": "code",
   "execution_count": 17,
   "metadata": {},
   "outputs": [
    {
     "data": {
      "text/plain": [
       "1600"
      ]
     },
     "execution_count": 17,
     "metadata": {},
     "output_type": "execute_result"
    }
   ],
   "source": [
    "len(paths)"
   ]
  },
  {
   "cell_type": "markdown",
   "metadata": {},
   "source": [
    "## Delta hedge\n"
   ]
  },
  {
   "cell_type": "code",
   "execution_count": 18,
   "metadata": {},
   "outputs": [
    {
     "data": {
      "image/png": "[encoded data removed]",
      "text/plain": [
       "<Figure size 640x480 with 1 Axes>"
      ]
     },
     "metadata": {},
     "output_type": "display_data"
    }
   ],
   "source": [
    "def delta_hedge(path):\n",
    "    pnl = np.zeros(len(path.CVA)-1)\n",
    "    default_buckets = [np.array(path.Q_s[k-1]) - np.array(path.Q_s[k]) for k in range(1, len(path.Q_s))]\n",
    "    for i in range(1, len(path.CVA)):\n",
    "        delta_CVA = path.CVA[i]- path.CVA[i-1]\n",
    "        quantity_swapt = sum(default_buckets[k][i]*(path.Swaptions[k][i]-path.Swaptions[k][i-1]) for k in range(0,len(default_buckets)) if k > path.t_s[i])\n",
    "        quantity_defaultprob = sum(path.Swaptions[k][i]*(path.Swaptions[k][i]-path.Swaptions[k][i-1]) for k in range(0,len(default_buckets)) if k > path.t_s[i])\n",
    "        pnl[i-1] = delta_CVA - (quantity_swapt + quantity_defaultprob)\n",
    "    return pnl\n",
    "\n",
    "\n",
    "pnl = [None] * len(paths) #[np.zeros(len(paths[1].CVA)-1) for _ in range(len(paths))]\n",
    "for i in range(len(pnl)): \n",
    "    pnl[i] = delta_hedge(paths[i])\n",
    "\n",
    "\n",
    "plt.figure(1)\n",
    "plt.title(\"PnL, Delta hedge, rebalancing once a day\")\n",
    "plt.grid()\n",
    "plt.plot(paths[3].t_s[1:],pnl[3])\n",
    "\n",
    "\n",
    "# Extract the 5% worst percentile values from each array\n",
    "worst_5_percent_values = np.array([np.percentile(p, 5) for p in pnl]) # is this really VaR?\n",
    "# Plot histogram\n",
    "plt.hist(worst_5_percent_values, bins=20, edgecolor='black', alpha=0.7)\n",
    "plt.xlabel(\"PnL\")\n",
    "plt.ylabel(\"Frequency\")\n",
    "plt.xlim(min(worst_5_percent_values)*2, max(worst_5_percent_values)-min(worst_5_percent_values))\n",
    "plt.title(\"Histogram of 5% Worst PnL Values\")\n",
    "plt.show()\n"
   ]
  }
 ],
 "metadata": {
  "kernelspec": {
   "display_name": "Pythonkurs",
   "language": "python",
   "name": "python3"
  },
  "language_info": {
   "codemirror_mode": {
    "name": "ipython",
    "version": 3
   },
   "file_extension": ".py",
   "mimetype": "text/x-python",
   "name": "python",
   "nbconvert_exporter": "python",
   "pygments_lexer": "ipython3",
   "version": "3.10.16"
  },
  "orig_nbformat": 4
 },
 "nbformat": 4,
 "nbformat_minor": 2
}
