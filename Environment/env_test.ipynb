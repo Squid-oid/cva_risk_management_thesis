{
 "cells": [
  {
   "cell_type": "code",
   "execution_count": 1,
   "metadata": {},
   "outputs": [],
   "source": [
    "import collections\n",
    "import gymnasium as gym\n",
    "import numpy as np\n",
    "import os\n",
    "\n",
    "import tqdm\n",
    "\n",
    "from matplotlib import pyplot as plt\n",
    "from typing import Any, List, Sequence, Tuple\n",
    "\n",
    "import pickle\n",
    "\n",
    "import path_datatype\n",
    "import sys\n",
    "\n",
    "from env import tradingEng\n",
    "\n",
    "# Define environment\n",
    "with open(\"1HWRunDemo.pkl\",\"rb\") as fp:\n",
    "    paths = pickle.load(fp)\n",
    "env = tradingEng(paths)"
   ]
  },
  {
   "cell_type": "code",
   "execution_count": null,
   "metadata": {},
   "outputs": [
    {
     "name": "stdout",
     "output_type": "stream",
     "text": [
      "{'Swaption Position': array([2.54113975e+08, 4.70891680e-03, 5.12035590e-03, 5.15599495e-03,\n",
      "       4.94282607e-03, 4.65419541e-03, 4.38872093e-03, 4.22883764e-03,\n",
      "       4.35380105e-03]), 'Q Position': array([2.87615229e-05, 2.90497223e-05, 2.93404569e-05, 2.96339545e-05,\n",
      "       2.99303317e-05, 3.02296521e-05, 3.05319580e-05, 3.08372843e-05,\n",
      "       3.11456628e-05]), 'Swaption Value': [np.float64(1.1205829982111137e-13), np.float64(0.00604716141471168), np.float64(0.005561250137820748), np.float64(0.005522809905265989), np.float64(0.005760991700344369), np.float64(0.006118260515119606), np.float64(0.006488355128660236), np.float64(0.006733665946429654), np.float64(0.006540395305441339)], 'Q Value': [np.float64(0.99005814443653), np.float64(0.9802358769207022), np.float64(0.9705227180122952), np.float64(0.9609105657344972), np.float64(0.9513954021825111), np.float64(0.9419751147797341), np.float64(0.9326483401874643), np.float64(0.923413998524827), np.float64(0.9142711189184027)], 'r': np.float64(0.045)}\n"
     ]
    }
   ],
   "source": [
    "# Check the values of a fresh batch environment\n",
    "print(env._get_obs())\n",
    "print(env._get_info())"
   ]
  }
 ],
 "metadata": {
  "kernelspec": {
   "display_name": "d2d",
   "language": "python",
   "name": "python3"
  },
  "language_info": {
   "codemirror_mode": {
    "name": "ipython",
    "version": 3
   },
   "file_extension": ".py",
   "mimetype": "text/x-python",
   "name": "python",
   "nbconvert_exporter": "python",
   "pygments_lexer": "ipython3",
   "version": "3.11.11"
  }
 },
 "nbformat": 4,
 "nbformat_minor": 2
}
