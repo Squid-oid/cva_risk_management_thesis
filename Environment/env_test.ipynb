{
 "cells": [
  {
   "cell_type": "code",
   "execution_count": null,
   "metadata": {},
   "outputs": [],
   "source": [
    "import collections\n",
    "import gymnasium as gym\n",
    "import numpy as np\n",
    "import statistics\n",
    "import tensorflow as tf\n",
    "import tqdm\n",
    "\n",
    "from matplotlib import pyplot as plt\n",
    "from tensorflow import keras\n",
    "from keras import layers, models\n",
    "from typing import Any, List, Sequence, Tuple\n",
    "\n",
    "import pickle\n",
    "\n",
    "from env import tradingEng\n",
    "\n",
    "from MarketGeneratingFunctions.path_datatype import Path\n",
    "\n",
    "# Define environment\n",
    "with open(\"1.6kRunDemo.pkl\",\"rb\") as fp:\n",
    "    paths = pickle.load(fp)\n",
    "env = tradingEng(paths)"
   ]
  },
  {
   "cell_type": "code",
   "execution_count": 2,
   "metadata": {},
   "outputs": [
    {
     "name": "stdout",
     "output_type": "stream",
     "text": [
      "{'Swaption Position': [0.0001, 1e-06, 1e-06, 1e-06, 1e-06, 1e-06, 1e-05, 1e-05, np.float64(0.20718992079567478)], 'Q Position': [1e-05, 1e-06, 1e-06, 1e-06, 1e-06, 1e-06, 1e-06, 1e-06, 1e-06], 'Swaption Value': [np.float64(1.0552225606189396e-13), np.float64(0.010089176703185203), np.float64(0.010190734624033967), np.float64(0.009815136689879586), np.float64(0.009416748598141931), np.float64(0.009020315476081642), np.float64(0.008588893832872627), np.float64(0.0080250289748358), np.float64(0.007070574468824766)], 'Q Value': [np.float64(0.9882413327834308), np.float64(0.9747023538277989), np.float64(0.9606634637154435), np.float64(0.9465812336330135), np.float64(0.9326173733138267), np.float64(0.918827913522014), np.float64(0.9052310054359204), np.float64(0.8918312380304622), np.float64(0.8786283622780605)], 'r': np.float64(0.045)}\n"
     ]
    }
   ],
   "source": [
    "# Check the values of a fresh batch environment\n",
    "print(env._get_obs())"
   ]
  }
 ],
 "metadata": {
  "kernelspec": {
   "display_name": "d2d",
   "language": "python",
   "name": "python3"
  },
  "language_info": {
   "codemirror_mode": {
    "name": "ipython",
    "version": 3
   },
   "file_extension": ".py",
   "mimetype": "text/x-python",
   "name": "python",
   "nbconvert_exporter": "python",
   "pygments_lexer": "ipython3",
   "version": "3.11.1"
  }
 },
 "nbformat": 4,
 "nbformat_minor": 2
}
