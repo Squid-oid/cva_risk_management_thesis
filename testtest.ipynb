{
 "cells": [
  {
   "cell_type": "markdown",
   "metadata": {},
   "source": [
    "Using QuantLib"
   ]
  },
  {
   "cell_type": "code",
   "execution_count": null,
   "metadata": {},
   "outputs": [],
   "source": [
    "import QuantLib as ql\n",
    "\n",
    "# ✅ Ensure evaluation date is set correctly\n",
    "today = ql.Date().todaysDate()\n",
    "ql.Settings.instance().evaluationDate = today\n",
    "\n",
    "print(f\"Evaluation Date (today): {today}\")\n",
    "\n",
    "# ✅ Extend the market zero rates to ensure curve extends past swaption expiry\n",
    "zc = {\n",
    "    'jours': [30, 60, 90, 180, 360, 720, 1080, 1440, 1800, 2160, 2520, 2880],  # Extended maturities (8 years)\n",
    "    'taux': [0.01, 0.015, 0.017, 0.02, 0.022, 0.025, 0.026, 0.027, 0.028, 0.029, 0.030, 0.031]\n",
    "}\n",
    "\n",
    "spot_dates = [today + ql.Period(i, ql.Days) for i in zc['jours']]\n",
    "spot_rates = zc['taux']\n",
    "\n",
    "# ✅ Define yield curve parameters\n",
    "day_count = ql.Thirty360(ql.Thirty360.BondBasis)\n",
    "calendar = ql.NullCalendar()\n",
    "interpolation = ql.Linear()\n",
    "compounding = ql.Compounded\n",
    "compounding_frequency = ql.Annual\n",
    "\n",
    "# ✅ Fix: Ensure yield curve starts at `today`\n",
    "spot_curve = ql.ZeroCurve(\n",
    "    [today] + spot_dates,  # ✅ Ensure first date is today\n",
    "    [spot_rates[0]] + spot_rates,  # ✅ Ensure first rate matches\n",
    "    day_count,\n",
    "    calendar,\n",
    "    interpolation,\n",
    "    compounding,\n",
    "    compounding_frequency\n",
    ")\n",
    "spot_curve.enableExtrapolation()  # ✅ Ensure rates are available beyond last maturity\n",
    "\n",
    "yts = ql.YieldTermStructureHandle(spot_curve)\n",
    "\n",
    "# ✅ Check reference date again\n",
    "print(f\"Zero Curve Reference Date (after fix): {yts.referenceDate()}\")\n",
    "\n",
    "# ✅ Define Hull-White Model\n",
    "model = ql.HullWhite(yts)\n",
    "\n",
    "# ✅ Set up the pricing engine\n",
    "engine = ql.JamshidianSwaptionEngine(model, yts)\n",
    "\n",
    "# ✅ Define the underlying swap\n",
    "nominal = 1_000_000\n",
    "fixed_rate = 0.02\n",
    "fixed_schedule = ql.Schedule(\n",
    "    today, ql.Date(12, 11, 2030), ql.Period(ql.Annual), \n",
    "    calendar, ql.ModifiedFollowing, ql.ModifiedFollowing, \n",
    "    ql.DateGeneration.Forward, False\n",
    ")\n",
    "floating_schedule = fixed_schedule\n",
    "ibor_index = ql.Euribor6M(yts)\n",
    "\n",
    "underlying_swap = ql.VanillaSwap(\n",
    "    ql.VanillaSwap.Payer, \n",
    "    nominal,  \n",
    "    fixed_schedule, \n",
    "    fixed_rate, \n",
    "    day_count,\n",
    "    floating_schedule, \n",
    "    ibor_index, \n",
    "    0.0,  \n",
    "    day_count\n",
    ")\n",
    "\n",
    "# ✅ Fix: Ensure exercise date is in the future\n",
    "exercise_date = ql.Date(12, 11, 2025)\n",
    "if exercise_date <= today:\n",
    "    raise ValueError(f\"Exercise date {exercise_date} must be after evaluation date {today}.\")\n",
    "\n",
    "exercise = ql.EuropeanExercise(exercise_date)\n",
    "swaption = ql.Swaption(underlying_swap, exercise)\n",
    "\n",
    "# ✅ Set the correct pricing engine\n",
    "swaption.setPricingEngine(engine)\n",
    "\n",
    "# ✅ Compute NPV\n",
    "npv = swaption.NPV()\n",
    "print(f\"Swaption NPV: {npv}\")\n"
   ]
  },
  {
   "attachments": {},
   "cell_type": "markdown",
   "metadata": {},
   "source": [
    "Own code"
   ]
  },
  {
   "cell_type": "code",
   "execution_count": null,
   "metadata": {},
   "outputs": [],
   "source": []
  },
  {
   "cell_type": "markdown",
   "metadata": {},
   "source": []
  },
  {
   "cell_type": "markdown",
   "metadata": {},
   "source": []
  },
  {
   "cell_type": "code",
   "execution_count": null,
   "metadata": {},
   "outputs": [],
   "source": []
  },
  {
   "cell_type": "code",
   "execution_count": null,
   "metadata": {},
   "outputs": [],
   "source": []
  },
  {
   "cell_type": "code",
   "execution_count": null,
   "metadata": {},
   "outputs": [],
   "source": []
  }
 ],
 "metadata": {
  "kernelspec": {
   "display_name": "Python 3 (ipykernel)",
   "language": "python",
   "name": "python3"
  },
  "language_info": {
   "codemirror_mode": {
    "name": "ipython",
    "version": 3
   },
   "file_extension": ".py",
   "mimetype": "text/x-python",
   "name": "python",
   "nbconvert_exporter": "python",
   "pygments_lexer": "ipython3",
   "version": "3.11.1"
  }
 },
 "nbformat": 4,
 "nbformat_minor": 2
}
