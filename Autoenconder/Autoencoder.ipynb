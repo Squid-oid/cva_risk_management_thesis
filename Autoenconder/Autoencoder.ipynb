{
 "cells": [
  {
   "cell_type": "markdown",
   "id": "dde30f52",
   "metadata": {},
   "source": [
    "### Setting up a quick and dirty simple autoencoder"
   ]
  },
  {
   "cell_type": "code",
   "execution_count": 1,
   "id": "6851c3ba",
   "metadata": {},
   "outputs": [],
   "source": [
    "import numpy as np\n",
    "import torch as th\n",
    "\n",
    "import os, sys\n",
    "dir = os.path.abspath('')\n",
    "dir = os.path.dirname(dir)\n",
    "sys.path.append(dir)\n",
    "import MarketGeneratingFunctions\n"
   ]
  },
  {
   "cell_type": "code",
   "execution_count": 2,
   "id": "f8908012",
   "metadata": {},
   "outputs": [],
   "source": [
    "from AutoEncoder import MarketAutoencoder "
   ]
  },
  {
   "cell_type": "markdown",
   "id": "8890e850",
   "metadata": {},
   "source": [
    "### Try Training it"
   ]
  },
  {
   "cell_type": "code",
   "execution_count": null,
   "id": "ef151fbb",
   "metadata": {},
   "outputs": [],
   "source": [
    "# Load input data\n",
    "import pickle\n",
    "with open(\"ZeroCorrFrs1Half\",\"rb\") as fp:\n",
    "    paths1 = pickle.load(fp)\n",
    "with open(\"ZeroCorrFrs2Half\",\"rb\") as fp:\n",
    "    paths2 = pickle.load(fp)\n",
    "with open(\"ZeroCorrSnd1Half\",\"rb\") as fp:\n",
    "    paths3 = pickle.load(fp)\n",
    "with open(\"ZeroCorrSnd2Half\",\"rb\") as fp:\n",
    "    paths4 = pickle.load(fp)\n"
   ]
  },
  {
   "cell_type": "code",
   "execution_count": null,
   "id": "1df91e96",
   "metadata": {},
   "outputs": [],
   "source": [
    "paths = paths1 + paths2 + paths3 + paths4"
   ]
  },
  {
   "cell_type": "code",
   "execution_count": 5,
   "id": "558fae6c",
   "metadata": {},
   "outputs": [
    {
     "name": "stdout",
     "output_type": "stream",
     "text": [
      "Epoch1, Batch 1000 loss: 0.21987249293161576\n",
      "Epoch2, Batch 1000 loss: 0.07763562868506613\n",
      "Epoch3, Batch 1000 loss: 0.0765797253576208\n",
      "Epoch4, Batch 1000 loss: 0.07597425647714097\n",
      "Epoch5, Batch 1000 loss: 0.07565492443992289\n",
      "Epoch6, Batch 1000 loss: 0.07508302235190172\n",
      "Epoch7, Batch 1000 loss: 0.0635795159153018\n",
      "Epoch8, Batch 1000 loss: 0.030689452436450614\n",
      "Epoch9, Batch 1000 loss: 0.027243036008402628\n",
      "Epoch10, Batch 1000 loss: 0.026022624332693468\n"
     ]
    }
   ],
   "source": [
    "# Train\n",
    "autoencoder = MarketAutoencoder()\n",
    "autoencoder.train(paths)"
   ]
  },
  {
   "cell_type": "code",
   "execution_count": 8,
   "id": "54a3e855",
   "metadata": {},
   "outputs": [
    {
     "name": "stdout",
     "output_type": "stream",
     "text": [
      "[0.         0.02901179 0.0443347  0.05817184 0.07174263 0.08530778\n",
      " 0.09902322 0.11250027 0.12508816 0.1358726  0.14415217 0.14926374\n",
      " 0.15012692 0.14653978 0.13814787 0.12467927 0.10679745 0.08450857\n",
      " 0.05873903 0.03030681 0.98658231 0.9698723  0.95227347 0.93458365\n",
      " 0.91707688 0.89984618 0.88292069 0.86630694 0.85000345 0.83400593\n",
      " 0.8183092  0.80290778 0.7877962  0.77296901 0.75842089 0.74414658\n",
      " 0.73014092 0.71639887 0.70291545 0.68968581]\n",
      "[-4.60517019 -3.24389147 -2.9125923  -2.68572368 -2.50417966 -2.35064381\n",
      " -2.21619437 -2.09964205 -2.00182766 -1.92502165 -1.86981506 -1.83719371\n",
      " -1.83178855 -1.85444511 -1.90954441 -2.00485907 -2.14731405 -2.35906471\n",
      " -2.67743808 -3.21123475  0.97316463  0.9397446   0.90454693  0.8691673\n",
      "  0.83415377  0.79969236  0.76584138  0.73261389  0.7000069   0.66801187\n",
      "  0.6366184   0.60581556  0.57559239  0.54593803  0.51684178  0.48829315\n",
      "  0.46028184  0.43279773  0.4058309   0.37937162]\n",
      "---------------------\n",
      "tensor([ 6.0229, -0.0903,  6.0922], dtype=torch.float64,\n",
      "       grad_fn=<LeakyReluBackward0>)\n",
      "---------------------\n",
      "tensor([-4.3932, -3.7567, -2.8689, -2.3997, -2.3450, -2.3126, -2.2154, -2.1268,\n",
      "        -2.0497, -1.9851, -1.9331, -1.8979, -1.8832, -1.8942, -1.9364, -2.0182,\n",
      "        -2.1423, -2.3330, -2.6256, -3.1173,  0.9711,  0.9430,  0.9017,  0.8614,\n",
      "         0.8222,  0.7871,  0.7511,  0.7194,  0.6910,  0.6597,  0.6287,  0.5907,\n",
      "         0.5686,  0.5361,  0.5157,  0.4810,  0.4495,  0.4255,  0.4047,  0.3716],\n",
      "       dtype=torch.float64, grad_fn=<LeakyReluBackward0>)\n",
      "tensor([0.0024, 0.0134, 0.0468, 0.0807, 0.0858, 0.0890, 0.0991, 0.1092, 0.1188,\n",
      "        0.1274, 0.1347, 0.1399, 0.1421, 0.1404, 0.1342, 0.1229, 0.1074, 0.0870,\n",
      "        0.0624, 0.0343, 0.9855, 0.9715, 0.9508, 0.9307, 0.9111, 0.8936, 0.8755,\n",
      "        0.8597, 0.8455, 0.8298, 0.8144, 0.7953, 0.7843, 0.7681, 0.7579, 0.7405,\n",
      "        0.7247, 0.7127, 0.7024, 0.6858], dtype=torch.float64)\n"
     ]
    }
   ],
   "source": [
    "# Test\n",
    "example_path = paths[200]\n",
    "t = 0*5\n",
    "Swaptions = [0.0] + [example_path.Swaptions[i][t] for i in range(0,19)]\n",
    "Q_s =  [example_path.Q_s[i][t] for i in range(1,21)]\n",
    "sample = np.concat([Swaptions,Q_s])\n",
    "print(sample)\n",
    "autoencoder.preprocess(sample)\n",
    "print(sample)\n",
    "print(\"---------------------\")\n",
    "k = autoencoder.encoder(th.from_numpy(sample))\n",
    "print(k)\n",
    "print(\"---------------------\")\n",
    "recovered = autoencoder.decoder(k)\n",
    "print(recovered)\n",
    "print(autoencoder.deprocess(recovered.detach()))"
   ]
  },
  {
   "cell_type": "code",
   "execution_count": 7,
   "id": "cabcacbe",
   "metadata": {},
   "outputs": [],
   "source": [
    "with open(\"autoencoderT\",\"wb\") as fp:\n",
    "    pickle.dump(autoencoder,fp)"
   ]
  }
 ],
 "metadata": {
  "kernelspec": {
   "display_name": "d2d",
   "language": "python",
   "name": "python3"
  },
  "language_info": {
   "codemirror_mode": {
    "name": "ipython",
    "version": 3
   },
   "file_extension": ".py",
   "mimetype": "text/x-python",
   "name": "python",
   "nbconvert_exporter": "python",
   "pygments_lexer": "ipython3",
   "version": "3.13.2"
  }
 },
 "nbformat": 4,
 "nbformat_minor": 5
}
